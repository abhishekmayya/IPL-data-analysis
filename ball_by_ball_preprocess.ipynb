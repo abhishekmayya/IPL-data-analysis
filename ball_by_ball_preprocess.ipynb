{
  "cells": [
    {
      "cell_type": "code",
      "execution_count": null,
      "metadata": {
        "id": "8cl0IauKueyi"
      },
      "outputs": [],
      "source": [
        "import pandas as pd\n",
        "import numpy as np\n"
      ]
    },
    {
      "cell_type": "code",
      "execution_count": null,
      "metadata": {
        "colab": {
          "base_uri": "https://localhost:8080/"
        },
        "id": "4abvFfzzwbSX",
        "outputId": "050810fc-d71c-4a5d-eacf-12409eb2e00e"
      },
      "outputs": [
        {
          "output_type": "stream",
          "name": "stdout",
          "text": [
            "Mounted at /content/drive\n"
          ]
        }
      ],
      "source": [
        "from google.colab import drive\n",
        "drive.mount('/content/drive')"
      ]
    },
    {
      "cell_type": "code",
      "execution_count": null,
      "metadata": {
        "id": "nyke5nVUwVm0"
      },
      "outputs": [],
      "source": [
        "df1=pd.read_csv('/content/drive/MyDrive/DE Project/Project_DE/ipldata/IPL_Ball_by_Ball_2008_2022.csv')\n",
        "df2=pd.read_csv('/content/drive/MyDrive/DE Project/Project_DE/ipldata/IPL_Matches_2008_2022.csv')\n"
      ]
    },
    {
      "cell_type": "code",
      "execution_count": null,
      "metadata": {
        "colab": {
          "base_uri": "https://localhost:8080/"
        },
        "id": "3GtvAB6VxzGf",
        "outputId": "294ae863-433c-4d48-f7f1-f2f17dff3975"
      },
      "outputs": [
        {
          "output_type": "execute_result",
          "data": {
            "text/plain": [
              "(950, 20)"
            ]
          },
          "metadata": {},
          "execution_count": 5
        }
      ],
      "source": [
        "df2.shape # checking the shape of the dataframe"
      ]
    },
    {
      "cell_type": "code",
      "execution_count": null,
      "metadata": {
        "colab": {
          "base_uri": "https://localhost:8080/"
        },
        "id": "BoGF1U9t63Dd",
        "outputId": "54d9fac2-2f6e-4394-9ca2-463af472dd62"
      },
      "outputs": [
        {
          "output_type": "execute_result",
          "data": {
            "text/plain": [
              "ID                   int64\n",
              "City                object\n",
              "Date                object\n",
              "Season              object\n",
              "MatchNumber         object\n",
              "Team1               object\n",
              "Team2               object\n",
              "Venue               object\n",
              "TossWinner          object\n",
              "TossDecision        object\n",
              "SuperOver           object\n",
              "WinningTeam         object\n",
              "WonBy               object\n",
              "Margin             float64\n",
              "method              object\n",
              "Player_of_Match     object\n",
              "Team1Players        object\n",
              "Team2Players        object\n",
              "Umpire1             object\n",
              "Umpire2             object\n",
              "dtype: object"
            ]
          },
          "metadata": {},
          "execution_count": 6
        }
      ],
      "source": [
        " df2.dtypes"
      ]
    },
    {
      "cell_type": "markdown",
      "metadata": {
        "id": "-UvVo9LQSLmo"
      },
      "source": []
    },
    {
      "cell_type": "code",
      "execution_count": null,
      "metadata": {
        "colab": {
          "base_uri": "https://localhost:8080/",
          "height": 254
        },
        "id": "89C_CC4XzT7k",
        "outputId": "66317421-930a-419e-edf7-05d17a1ce0ad"
      },
      "outputs": [
        {
          "output_type": "execute_result",
          "data": {
            "text/plain": [
              "        ID       City        Date Season  MatchNumber  \\\n",
              "0  1312200  Ahmedabad  2022-05-29   2022        Final   \n",
              "1  1312199  Ahmedabad  2022-05-27   2022  Qualifier 2   \n",
              "\n",
              "                         Team1             Team2  \\\n",
              "0             Rajasthan Royals    Gujarat Titans   \n",
              "1  Royal Challengers Bangalore  Rajasthan Royals   \n",
              "\n",
              "                              Venue        TossWinner TossDecision SuperOver  \\\n",
              "0  Narendra Modi Stadium, Ahmedabad  Rajasthan Royals          bat         N   \n",
              "1  Narendra Modi Stadium, Ahmedabad  Rajasthan Royals        field         N   \n",
              "\n",
              "        WinningTeam    WonBy  Margin method Player_of_Match  \\\n",
              "0    Gujarat Titans  Wickets     7.0    NaN       HH Pandya   \n",
              "1  Rajasthan Royals  Wickets     7.0    NaN      JC Buttler   \n",
              "\n",
              "                                        Team1Players  \\\n",
              "0  ['YBK Jaiswal', 'JC Buttler', 'SV Samson', 'D ...   \n",
              "1  ['V Kohli', 'F du Plessis', 'RM Patidar', 'GJ ...   \n",
              "\n",
              "                                        Team2Players      Umpire1      Umpire2  \n",
              "0  ['WP Saha', 'Shubman Gill', 'MS Wade', 'HH Pan...  CB Gaffaney  Nitin Menon  \n",
              "1  ['YBK Jaiswal', 'JC Buttler', 'SV Samson', 'D ...  CB Gaffaney  Nitin Menon  "
            ],
            "text/html": [
              "\n",
              "  <div id=\"df-d00bdbfd-3486-49a8-b122-a4343f935e8c\" class=\"colab-df-container\">\n",
              "    <div>\n",
              "<style scoped>\n",
              "    .dataframe tbody tr th:only-of-type {\n",
              "        vertical-align: middle;\n",
              "    }\n",
              "\n",
              "    .dataframe tbody tr th {\n",
              "        vertical-align: top;\n",
              "    }\n",
              "\n",
              "    .dataframe thead th {\n",
              "        text-align: right;\n",
              "    }\n",
              "</style>\n",
              "<table border=\"1\" class=\"dataframe\">\n",
              "  <thead>\n",
              "    <tr style=\"text-align: right;\">\n",
              "      <th></th>\n",
              "      <th>ID</th>\n",
              "      <th>City</th>\n",
              "      <th>Date</th>\n",
              "      <th>Season</th>\n",
              "      <th>MatchNumber</th>\n",
              "      <th>Team1</th>\n",
              "      <th>Team2</th>\n",
              "      <th>Venue</th>\n",
              "      <th>TossWinner</th>\n",
              "      <th>TossDecision</th>\n",
              "      <th>SuperOver</th>\n",
              "      <th>WinningTeam</th>\n",
              "      <th>WonBy</th>\n",
              "      <th>Margin</th>\n",
              "      <th>method</th>\n",
              "      <th>Player_of_Match</th>\n",
              "      <th>Team1Players</th>\n",
              "      <th>Team2Players</th>\n",
              "      <th>Umpire1</th>\n",
              "      <th>Umpire2</th>\n",
              "    </tr>\n",
              "  </thead>\n",
              "  <tbody>\n",
              "    <tr>\n",
              "      <th>0</th>\n",
              "      <td>1312200</td>\n",
              "      <td>Ahmedabad</td>\n",
              "      <td>2022-05-29</td>\n",
              "      <td>2022</td>\n",
              "      <td>Final</td>\n",
              "      <td>Rajasthan Royals</td>\n",
              "      <td>Gujarat Titans</td>\n",
              "      <td>Narendra Modi Stadium, Ahmedabad</td>\n",
              "      <td>Rajasthan Royals</td>\n",
              "      <td>bat</td>\n",
              "      <td>N</td>\n",
              "      <td>Gujarat Titans</td>\n",
              "      <td>Wickets</td>\n",
              "      <td>7.0</td>\n",
              "      <td>NaN</td>\n",
              "      <td>HH Pandya</td>\n",
              "      <td>['YBK Jaiswal', 'JC Buttler', 'SV Samson', 'D ...</td>\n",
              "      <td>['WP Saha', 'Shubman Gill', 'MS Wade', 'HH Pan...</td>\n",
              "      <td>CB Gaffaney</td>\n",
              "      <td>Nitin Menon</td>\n",
              "    </tr>\n",
              "    <tr>\n",
              "      <th>1</th>\n",
              "      <td>1312199</td>\n",
              "      <td>Ahmedabad</td>\n",
              "      <td>2022-05-27</td>\n",
              "      <td>2022</td>\n",
              "      <td>Qualifier 2</td>\n",
              "      <td>Royal Challengers Bangalore</td>\n",
              "      <td>Rajasthan Royals</td>\n",
              "      <td>Narendra Modi Stadium, Ahmedabad</td>\n",
              "      <td>Rajasthan Royals</td>\n",
              "      <td>field</td>\n",
              "      <td>N</td>\n",
              "      <td>Rajasthan Royals</td>\n",
              "      <td>Wickets</td>\n",
              "      <td>7.0</td>\n",
              "      <td>NaN</td>\n",
              "      <td>JC Buttler</td>\n",
              "      <td>['V Kohli', 'F du Plessis', 'RM Patidar', 'GJ ...</td>\n",
              "      <td>['YBK Jaiswal', 'JC Buttler', 'SV Samson', 'D ...</td>\n",
              "      <td>CB Gaffaney</td>\n",
              "      <td>Nitin Menon</td>\n",
              "    </tr>\n",
              "  </tbody>\n",
              "</table>\n",
              "</div>\n",
              "    <div class=\"colab-df-buttons\">\n",
              "\n",
              "  <div class=\"colab-df-container\">\n",
              "    <button class=\"colab-df-convert\" onclick=\"convertToInteractive('df-d00bdbfd-3486-49a8-b122-a4343f935e8c')\"\n",
              "            title=\"Convert this dataframe to an interactive table.\"\n",
              "            style=\"display:none;\">\n",
              "\n",
              "  <svg xmlns=\"http://www.w3.org/2000/svg\" height=\"24px\" viewBox=\"0 -960 960 960\">\n",
              "    <path d=\"M120-120v-720h720v720H120Zm60-500h600v-160H180v160Zm220 220h160v-160H400v160Zm0 220h160v-160H400v160ZM180-400h160v-160H180v160Zm440 0h160v-160H620v160ZM180-180h160v-160H180v160Zm440 0h160v-160H620v160Z\"/>\n",
              "  </svg>\n",
              "    </button>\n",
              "\n",
              "  <style>\n",
              "    .colab-df-container {\n",
              "      display:flex;\n",
              "      gap: 12px;\n",
              "    }\n",
              "\n",
              "    .colab-df-convert {\n",
              "      background-color: #E8F0FE;\n",
              "      border: none;\n",
              "      border-radius: 50%;\n",
              "      cursor: pointer;\n",
              "      display: none;\n",
              "      fill: #1967D2;\n",
              "      height: 32px;\n",
              "      padding: 0 0 0 0;\n",
              "      width: 32px;\n",
              "    }\n",
              "\n",
              "    .colab-df-convert:hover {\n",
              "      background-color: #E2EBFA;\n",
              "      box-shadow: 0px 1px 2px rgba(60, 64, 67, 0.3), 0px 1px 3px 1px rgba(60, 64, 67, 0.15);\n",
              "      fill: #174EA6;\n",
              "    }\n",
              "\n",
              "    .colab-df-buttons div {\n",
              "      margin-bottom: 4px;\n",
              "    }\n",
              "\n",
              "    [theme=dark] .colab-df-convert {\n",
              "      background-color: #3B4455;\n",
              "      fill: #D2E3FC;\n",
              "    }\n",
              "\n",
              "    [theme=dark] .colab-df-convert:hover {\n",
              "      background-color: #434B5C;\n",
              "      box-shadow: 0px 1px 3px 1px rgba(0, 0, 0, 0.15);\n",
              "      filter: drop-shadow(0px 1px 2px rgba(0, 0, 0, 0.3));\n",
              "      fill: #FFFFFF;\n",
              "    }\n",
              "  </style>\n",
              "\n",
              "    <script>\n",
              "      const buttonEl =\n",
              "        document.querySelector('#df-d00bdbfd-3486-49a8-b122-a4343f935e8c button.colab-df-convert');\n",
              "      buttonEl.style.display =\n",
              "        google.colab.kernel.accessAllowed ? 'block' : 'none';\n",
              "\n",
              "      async function convertToInteractive(key) {\n",
              "        const element = document.querySelector('#df-d00bdbfd-3486-49a8-b122-a4343f935e8c');\n",
              "        const dataTable =\n",
              "          await google.colab.kernel.invokeFunction('convertToInteractive',\n",
              "                                                    [key], {});\n",
              "        if (!dataTable) return;\n",
              "\n",
              "        const docLinkHtml = 'Like what you see? Visit the ' +\n",
              "          '<a target=\"_blank\" href=https://colab.research.google.com/notebooks/data_table.ipynb>data table notebook</a>'\n",
              "          + ' to learn more about interactive tables.';\n",
              "        element.innerHTML = '';\n",
              "        dataTable['output_type'] = 'display_data';\n",
              "        await google.colab.output.renderOutput(dataTable, element);\n",
              "        const docLink = document.createElement('div');\n",
              "        docLink.innerHTML = docLinkHtml;\n",
              "        element.appendChild(docLink);\n",
              "      }\n",
              "    </script>\n",
              "  </div>\n",
              "\n",
              "\n",
              "<div id=\"df-7ac26114-89c3-4322-b918-4081fc75b620\">\n",
              "  <button class=\"colab-df-quickchart\" onclick=\"quickchart('df-7ac26114-89c3-4322-b918-4081fc75b620')\"\n",
              "            title=\"Suggest charts\"\n",
              "            style=\"display:none;\">\n",
              "\n",
              "<svg xmlns=\"http://www.w3.org/2000/svg\" height=\"24px\"viewBox=\"0 0 24 24\"\n",
              "     width=\"24px\">\n",
              "    <g>\n",
              "        <path d=\"M19 3H5c-1.1 0-2 .9-2 2v14c0 1.1.9 2 2 2h14c1.1 0 2-.9 2-2V5c0-1.1-.9-2-2-2zM9 17H7v-7h2v7zm4 0h-2V7h2v10zm4 0h-2v-4h2v4z\"/>\n",
              "    </g>\n",
              "</svg>\n",
              "  </button>\n",
              "\n",
              "<style>\n",
              "  .colab-df-quickchart {\n",
              "      --bg-color: #E8F0FE;\n",
              "      --fill-color: #1967D2;\n",
              "      --hover-bg-color: #E2EBFA;\n",
              "      --hover-fill-color: #174EA6;\n",
              "      --disabled-fill-color: #AAA;\n",
              "      --disabled-bg-color: #DDD;\n",
              "  }\n",
              "\n",
              "  [theme=dark] .colab-df-quickchart {\n",
              "      --bg-color: #3B4455;\n",
              "      --fill-color: #D2E3FC;\n",
              "      --hover-bg-color: #434B5C;\n",
              "      --hover-fill-color: #FFFFFF;\n",
              "      --disabled-bg-color: #3B4455;\n",
              "      --disabled-fill-color: #666;\n",
              "  }\n",
              "\n",
              "  .colab-df-quickchart {\n",
              "    background-color: var(--bg-color);\n",
              "    border: none;\n",
              "    border-radius: 50%;\n",
              "    cursor: pointer;\n",
              "    display: none;\n",
              "    fill: var(--fill-color);\n",
              "    height: 32px;\n",
              "    padding: 0;\n",
              "    width: 32px;\n",
              "  }\n",
              "\n",
              "  .colab-df-quickchart:hover {\n",
              "    background-color: var(--hover-bg-color);\n",
              "    box-shadow: 0 1px 2px rgba(60, 64, 67, 0.3), 0 1px 3px 1px rgba(60, 64, 67, 0.15);\n",
              "    fill: var(--button-hover-fill-color);\n",
              "  }\n",
              "\n",
              "  .colab-df-quickchart-complete:disabled,\n",
              "  .colab-df-quickchart-complete:disabled:hover {\n",
              "    background-color: var(--disabled-bg-color);\n",
              "    fill: var(--disabled-fill-color);\n",
              "    box-shadow: none;\n",
              "  }\n",
              "\n",
              "  .colab-df-spinner {\n",
              "    border: 2px solid var(--fill-color);\n",
              "    border-color: transparent;\n",
              "    border-bottom-color: var(--fill-color);\n",
              "    animation:\n",
              "      spin 1s steps(1) infinite;\n",
              "  }\n",
              "\n",
              "  @keyframes spin {\n",
              "    0% {\n",
              "      border-color: transparent;\n",
              "      border-bottom-color: var(--fill-color);\n",
              "      border-left-color: var(--fill-color);\n",
              "    }\n",
              "    20% {\n",
              "      border-color: transparent;\n",
              "      border-left-color: var(--fill-color);\n",
              "      border-top-color: var(--fill-color);\n",
              "    }\n",
              "    30% {\n",
              "      border-color: transparent;\n",
              "      border-left-color: var(--fill-color);\n",
              "      border-top-color: var(--fill-color);\n",
              "      border-right-color: var(--fill-color);\n",
              "    }\n",
              "    40% {\n",
              "      border-color: transparent;\n",
              "      border-right-color: var(--fill-color);\n",
              "      border-top-color: var(--fill-color);\n",
              "    }\n",
              "    60% {\n",
              "      border-color: transparent;\n",
              "      border-right-color: var(--fill-color);\n",
              "    }\n",
              "    80% {\n",
              "      border-color: transparent;\n",
              "      border-right-color: var(--fill-color);\n",
              "      border-bottom-color: var(--fill-color);\n",
              "    }\n",
              "    90% {\n",
              "      border-color: transparent;\n",
              "      border-bottom-color: var(--fill-color);\n",
              "    }\n",
              "  }\n",
              "</style>\n",
              "\n",
              "  <script>\n",
              "    async function quickchart(key) {\n",
              "      const quickchartButtonEl =\n",
              "        document.querySelector('#' + key + ' button');\n",
              "      quickchartButtonEl.disabled = true;  // To prevent multiple clicks.\n",
              "      quickchartButtonEl.classList.add('colab-df-spinner');\n",
              "      try {\n",
              "        const charts = await google.colab.kernel.invokeFunction(\n",
              "            'suggestCharts', [key], {});\n",
              "      } catch (error) {\n",
              "        console.error('Error during call to suggestCharts:', error);\n",
              "      }\n",
              "      quickchartButtonEl.classList.remove('colab-df-spinner');\n",
              "      quickchartButtonEl.classList.add('colab-df-quickchart-complete');\n",
              "    }\n",
              "    (() => {\n",
              "      let quickchartButtonEl =\n",
              "        document.querySelector('#df-7ac26114-89c3-4322-b918-4081fc75b620 button');\n",
              "      quickchartButtonEl.style.display =\n",
              "        google.colab.kernel.accessAllowed ? 'block' : 'none';\n",
              "    })();\n",
              "  </script>\n",
              "</div>\n",
              "    </div>\n",
              "  </div>\n"
            ]
          },
          "metadata": {},
          "execution_count": 7
        }
      ],
      "source": [
        "df2.head(2)"
      ]
    },
    {
      "cell_type": "code",
      "execution_count": null,
      "metadata": {
        "colab": {
          "base_uri": "https://localhost:8080/"
        },
        "id": "fwwB8OKD2VqM",
        "outputId": "9691bb91-a3e7-4275-f228-4b8c6386c654"
      },
      "outputs": [
        {
          "output_type": "execute_result",
          "data": {
            "text/plain": [
              "ID                   0\n",
              "City                51\n",
              "Date                 0\n",
              "Season               0\n",
              "MatchNumber          0\n",
              "Team1                0\n",
              "Team2                0\n",
              "Venue                0\n",
              "TossWinner           0\n",
              "TossDecision         0\n",
              "SuperOver            4\n",
              "WinningTeam          4\n",
              "WonBy                0\n",
              "Margin              18\n",
              "method             931\n",
              "Player_of_Match      4\n",
              "Team1Players         0\n",
              "Team2Players         0\n",
              "Umpire1              0\n",
              "Umpire2              0\n",
              "dtype: int64"
            ]
          },
          "metadata": {},
          "execution_count": 8
        }
      ],
      "source": [
        "df2.isna().sum()"
      ]
    },
    {
      "cell_type": "markdown",
      "metadata": {
        "id": "7jsuT1zs6M59"
      },
      "source": [
        "*italicised text*#Data Processing of First data"
      ]
    },
    {
      "cell_type": "code",
      "execution_count": null,
      "metadata": {
        "colab": {
          "base_uri": "https://localhost:8080/"
        },
        "id": "rAzCPeG87DV9",
        "outputId": "87d583ef-d48f-4b2c-db2d-09e7a3249cb8"
      },
      "outputs": [
        {
          "output_type": "execute_result",
          "data": {
            "text/plain": [
              "Index(['ID', 'City', 'Date', 'Season', 'MatchNumber', 'Team1', 'Team2',\n",
              "       'Venue', 'TossWinner', 'TossDecision', 'SuperOver', 'WinningTeam',\n",
              "       'WonBy', 'Margin', 'method', 'Player_of_Match', 'Team1Players',\n",
              "       'Team2Players', 'Umpire1', 'Umpire2'],\n",
              "      dtype='object')"
            ]
          },
          "metadata": {},
          "execution_count": 9
        }
      ],
      "source": [
        "\n",
        "df2.columns"
      ]
    },
    {
      "cell_type": "code",
      "execution_count": null,
      "metadata": {
        "colab": {
          "base_uri": "https://localhost:8080/"
        },
        "id": "9MpkMGnIittB",
        "outputId": "da8164f5-9c3f-4847-b901-97088d5c04cf"
      },
      "outputs": [
        {
          "output_type": "stream",
          "name": "stdout",
          "text": [
            "ID\n",
            "         ID\n",
            "1312200   1\n",
            "548372    1\n",
            "597999    1\n",
            "597998    1\n",
            "548381    1\n",
            "...      ..\n",
            "1082644   1\n",
            "1082643   1\n",
            "1082642   1\n",
            "1082641   1\n",
            "335982    1\n",
            "\n",
            "[950 rows x 1 columns]\n",
            "Number of unique values in ID 950\n",
            "City\n",
            "                City\n",
            "Mumbai           159\n",
            "Kolkata           79\n",
            "Delhi             78\n",
            "Chennai           67\n",
            "Bangalore         65\n",
            "Hyderabad         64\n",
            "Chandigarh        56\n",
            "Pune              51\n",
            "Jaipur            47\n",
            "Abu Dhabi         37\n",
            "Ahmedabad         19\n",
            "Bengaluru         15\n",
            "Durban            15\n",
            "Visakhapatnam     13\n",
            "Dubai             13\n",
            "Centurion         12\n",
            "Rajkot            10\n",
            "Sharjah           10\n",
            "Dharamsala         9\n",
            "Navi Mumbai        9\n",
            "Indore             9\n",
            "Johannesburg       8\n",
            "Ranchi             7\n",
            "Cuttack            7\n",
            "Port Elizabeth     7\n",
            "Cape Town          7\n",
            "Raipur             6\n",
            "Kochi              5\n",
            "Kanpur             4\n",
            "Nagpur             3\n",
            "Kimberley          3\n",
            "East London        3\n",
            "Bloemfontein       2\n",
            "Number of unique values in City 33\n",
            "Date\n",
            "            Date\n",
            "2014-05-10     2\n",
            "2011-05-04     2\n",
            "2016-04-23     2\n",
            "2011-04-22     2\n",
            "2016-04-24     2\n",
            "...          ...\n",
            "2017-05-21     1\n",
            "2017-05-19     1\n",
            "2017-05-17     1\n",
            "2017-05-16     1\n",
            "2008-04-18     1\n",
            "\n",
            "[706 rows x 1 columns]\n",
            "Number of unique values in Date 706\n",
            "Season\n",
            "         Season\n",
            "2013         76\n",
            "2022         74\n",
            "2012         74\n",
            "2011         73\n",
            "2021         60\n",
            "2020/21      60\n",
            "2019         60\n",
            "2018         60\n",
            "2016         60\n",
            "2014         60\n",
            "2009/10      60\n",
            "2017         59\n",
            "2015         59\n",
            "2007/08      58\n",
            "2009         57\n",
            "Number of unique values in Season 15\n",
            "MatchNumber\n",
            "                    MatchNumber\n",
            "Final                        15\n",
            "36                           15\n",
            "46                           15\n",
            "45                           15\n",
            "44                           15\n",
            "...                         ...\n",
            "65                            4\n",
            "Elimination Final             3\n",
            "72                            2\n",
            "71                            2\n",
            "3rd Place Play-Off            1\n",
            "\n",
            "[80 rows x 1 columns]\n",
            "Number of unique values in MatchNumber 80\n",
            "Team1\n",
            "                             Team1\n",
            "Royal Challengers Bangalore    126\n",
            "Mumbai Indians                 112\n",
            "Chennai Super Kings            111\n",
            "Kolkata Knight Riders          105\n",
            "Kings XI Punjab                 92\n",
            "Rajasthan Royals                89\n",
            "Delhi Daredevils                85\n",
            "Sunrisers Hyderabad             69\n",
            "Deccan Chargers                 39\n",
            "Delhi Capitals                  29\n",
            "Pune Warriors                   23\n",
            "Punjab Kings                    18\n",
            "Gujarat Lions                   16\n",
            "Lucknow Super Giants             8\n",
            "Gujarat Titans                   7\n",
            "Rising Pune Supergiant           7\n",
            "Rising Pune Supergiants          7\n",
            "Kochi Tuskers Kerala             7\n",
            "Number of unique values in Team1 18\n",
            "Team2\n",
            "                             Team2\n",
            "Mumbai Indians                 119\n",
            "Kolkata Knight Riders          118\n",
            "Rajasthan Royals               103\n",
            "Royal Challengers Bangalore    100\n",
            "Kings XI Punjab                 98\n",
            "Chennai Super Kings             97\n",
            "Sunrisers Hyderabad             83\n",
            "Delhi Daredevils                76\n",
            "Deccan Chargers                 36\n",
            "Delhi Capitals                  34\n",
            "Pune Warriors                   23\n",
            "Gujarat Lions                   14\n",
            "Punjab Kings                    10\n",
            "Gujarat Titans                   9\n",
            "Rising Pune Supergiant           9\n",
            "Rising Pune Supergiants          7\n",
            "Lucknow Super Giants             7\n",
            "Kochi Tuskers Kerala             7\n",
            "Number of unique values in Team2 18\n",
            "Venue\n",
            "                                                    Venue\n",
            "Eden Gardens                                           77\n",
            "Wankhede Stadium                                       73\n",
            "M Chinnaswamy Stadium                                  65\n",
            "Feroz Shah Kotla                                       60\n",
            "Rajiv Gandhi International Stadium, Uppal              49\n",
            "MA Chidambaram Stadium, Chepauk                        48\n",
            "Sawai Mansingh Stadium                                 47\n",
            "Dubai International Cricket Stadium                    46\n",
            "Punjab Cricket Association Stadium, Mohali             35\n",
            "Wankhede Stadium, Mumbai                               31\n",
            "Sheikh Zayed Stadium                                   29\n",
            "Sharjah Cricket Stadium                                28\n",
            "Maharashtra Cricket Association Stadium                22\n",
            "Dr DY Patil Sports Academy, Mumbai                     20\n",
            "Dr DY Patil Sports Academy                             17\n",
            "Brabourne Stadium, Mumbai                              17\n",
            "Subrata Roy Sahara Stadium                             16\n",
            "Rajiv Gandhi International Stadium                     15\n",
            "Kingsmead                                              15\n",
            "M.Chinnaswamy Stadium                                  15\n",
            "Arun Jaitley Stadium                                   14\n",
            "Dr. Y.S. Rajasekhara Reddy ACA-VDCA Cricket Sta...     13\n",
            "Maharashtra Cricket Association Stadium, Pune          13\n",
            "SuperSport Park                                        12\n",
            "Sardar Patel Stadium, Motera                           12\n",
            "Punjab Cricket Association IS Bindra Stadium, M...     11\n",
            "Punjab Cricket Association IS Bindra Stadium           10\n",
            "MA Chidambaram Stadium, Chepauk, Chennai               10\n",
            "Saurashtra Cricket Association Stadium                 10\n",
            "Brabourne Stadium                                      10\n",
            "Holkar Cricket Stadium                                  9\n",
            "MA Chidambaram Stadium                                  9\n",
            "Himachal Pradesh Cricket Association Stadium            9\n",
            "New Wanderers Stadium                                   8\n",
            "Zayed Cricket Stadium, Abu Dhabi                        8\n",
            "St George's Park                                        7\n",
            "Narendra Modi Stadium, Ahmedabad                        7\n",
            "Barabati Stadium                                        7\n",
            "JSCA International Stadium Complex                      7\n",
            "Newlands                                                7\n",
            "Shaheed Veer Narayan Singh International Stadium        6\n",
            "Nehru Stadium                                           5\n",
            "Green Park                                              4\n",
            "Arun Jaitley Stadium, Delhi                             4\n",
            "Vidarbha Cricket Association Stadium, Jamtha            3\n",
            "De Beers Diamond Oval                                   3\n",
            "Buffalo Park                                            3\n",
            "Eden Gardens, Kolkata                                   2\n",
            "OUTsurance Oval                                         2\n",
            "Number of unique values in Venue 49\n",
            "TossWinner\n",
            "                             TossWinner\n",
            "Mumbai Indians                      123\n",
            "Kolkata Knight Riders               114\n",
            "Chennai Super Kings                 109\n",
            "Royal Challengers Bangalore         105\n",
            "Rajasthan Royals                     99\n",
            "Kings XI Punjab                      85\n",
            "Delhi Daredevils                     80\n",
            "Sunrisers Hyderabad                  74\n",
            "Deccan Chargers                      43\n",
            "Delhi Capitals                       36\n",
            "Pune Warriors                        20\n",
            "Gujarat Lions                        15\n",
            "Gujarat Titans                       10\n",
            "Punjab Kings                          9\n",
            "Kochi Tuskers Kerala                  8\n",
            "Lucknow Super Giants                  7\n",
            "Rising Pune Supergiants               7\n",
            "Rising Pune Supergiant                6\n",
            "Number of unique values in TossWinner 18\n",
            "TossDecision\n",
            "       TossDecision\n",
            "field           599\n",
            "bat             351\n",
            "Number of unique values in TossDecision 2\n",
            "SuperOver\n",
            "   SuperOver\n",
            "N        932\n",
            "Y         14\n",
            "Number of unique values in SuperOver 2\n",
            "WinningTeam\n",
            "                             WinningTeam\n",
            "Mumbai Indians                       131\n",
            "Chennai Super Kings                  121\n",
            "Kolkata Knight Riders                114\n",
            "Royal Challengers Bangalore          109\n",
            "Rajasthan Royals                      96\n",
            "Kings XI Punjab                       88\n",
            "Sunrisers Hyderabad                   75\n",
            "Delhi Daredevils                      67\n",
            "Delhi Capitals                        36\n",
            "Deccan Chargers                       29\n",
            "Gujarat Lions                         13\n",
            "Punjab Kings                          13\n",
            "Pune Warriors                         12\n",
            "Gujarat Titans                        12\n",
            "Rising Pune Supergiant                10\n",
            "Lucknow Super Giants                   9\n",
            "Kochi Tuskers Kerala                   6\n",
            "Rising Pune Supergiants                5\n",
            "Number of unique values in WinningTeam 18\n",
            "WonBy\n",
            "           WonBy\n",
            "Wickets      509\n",
            "Runs         423\n",
            "SuperOver     14\n",
            "NoResults      4\n",
            "Number of unique values in WonBy 4\n",
            "Margin\n",
            "       Margin\n",
            "6.0       114\n",
            "7.0       113\n",
            "5.0        98\n",
            "8.0        75\n",
            "4.0        62\n",
            "...       ...\n",
            "118.0       1\n",
            "146.0       1\n",
            "91.0        1\n",
            "52.0        1\n",
            "140.0       1\n",
            "\n",
            "[94 rows x 1 columns]\n",
            "Number of unique values in Margin 94\n",
            "method\n",
            "     method\n",
            "D/L      19\n",
            "Number of unique values in method 1\n",
            "Player_of_Match\n",
            "                Player_of_Match\n",
            "AB de Villiers               25\n",
            "CH Gayle                     22\n",
            "DA Warner                    18\n",
            "RG Sharma                    18\n",
            "MS Dhoni                     17\n",
            "...                         ...\n",
            "CR Brathwaite                 1\n",
            "Mohsin Khan                   1\n",
            "A Zampa                       1\n",
            "BCJ Cutting                   1\n",
            "MF Maharoof                   1\n",
            "\n",
            "[262 rows x 1 columns]\n",
            "Number of unique values in Player_of_Match 262\n",
            "Team1Players\n",
            "                                                    Team1Players\n",
            "['RD Gaikwad', 'F du Plessis', 'MM Ali', 'SK Ra...             2\n",
            "['SV Samson', 'KK Nair', 'SS Iyer', 'RR Pant', ...             2\n",
            "['JC Buttler', 'D Padikkal', 'SV Samson', 'SO H...             2\n",
            "['S Dhawan', 'KS Williamson', 'WP Saha', 'MK Pa...             2\n",
            "['CA Lynn', 'SP Narine', 'RV Uthappa', 'N Rana'...             2\n",
            "...                                                          ...\n",
            "['CH Gayle', 'Mandeep Singh', 'V Kohli', 'AB de...             1\n",
            "['MJ Guptill', 'HM Amla', 'SE Marsh', 'GJ Maxwe...             1\n",
            "['SV Samson', 'KK Nair', 'SS Iyer', 'RR Pant', ...             1\n",
            "['DA Warner', 'S Dhawan', 'KS Williamson', 'Yuv...             1\n",
            "['R Dravid', 'W Jaffer', 'V Kohli', 'JH Kallis'...             1\n",
            "\n",
            "[932 rows x 1 columns]\n",
            "Number of unique values in Team1Players 932\n",
            "Team2Players\n",
            "                                                    Team2Players\n",
            "['RV Uthappa', 'G Gambhir', 'MK Pandey', 'SA Ya...             2\n",
            "['Abhishek Sharma', 'KS Williamson', 'RA Tripat...             2\n",
            "['AM Rahane', 'SV Samson', 'SPD Smith', 'KK Nai...             2\n",
            "['DA Warner', 'S Dhawan', 'KS Williamson', 'Yuv...             2\n",
            "['DJ Jacobs', 'SR Tendulkar', 'AT Rayudu', 'RG ...             2\n",
            "...                                                          ...\n",
            "['LMP Simmons', 'PA Patel', 'N Rana', 'RG Sharm...             1\n",
            "['CA Lynn', 'SP Narine', 'C de Grandhomme', 'G ...             1\n",
            "['DR Smith', 'Ishan Kishan', 'SK Raina', 'KD Ka...             1\n",
            "['LMP Simmons', 'PA Patel', 'KA Pollard', 'RG S...             1\n",
            "['SC Ganguly', 'BB McCullum', 'RT Ponting', 'DJ...             1\n",
            "\n",
            "[937 rows x 1 columns]\n",
            "Number of unique values in Team2Players 937\n",
            "Umpire1\n",
            "                       Umpire1\n",
            "AK Chaudhary                95\n",
            "HDPK Dharmasena             76\n",
            "Asad Rauf                   51\n",
            "S Ravi                      48\n",
            "CB Gaffaney                 47\n",
            "KN Ananthapadmanabhan       44\n",
            "M Erasmus                   42\n",
            "Aleem Dar                   38\n",
            "BF Bowden                   36\n",
            "BR Doctrove                 34\n",
            "Nitin Menon                 31\n",
            "AY Dandekar                 30\n",
            "BNJ Oxenford                30\n",
            "C Shamshuddin               28\n",
            "RE Koertzen                 20\n",
            "S Asnani                    19\n",
            "NJ Llong                    17\n",
            "JD Cloete                   16\n",
            "CK Nandan                   16\n",
            "A Nand Kishore              16\n",
            "RK Illingworth              14\n",
            "BG Jerling                  13\n",
            "VA Kulkarni                 12\n",
            "SS Hazare                   11\n",
            "S Das                       10\n",
            "MR Benson                   10\n",
            "K Hariharan                 10\n",
            "A Deshmukh                   9\n",
            "DJ Harper                    9\n",
            "J Madanagopal                8\n",
            "GAV Baxter                   7\n",
            "PG Pathak                    7\n",
            "RM Deshpande                 7\n",
            "IL Howell                    7\n",
            "PR Reiffel                   7\n",
            "Chirra Ravikanthreddy        6\n",
            "RJ Tucker                    6\n",
            "SJ Davis                     6\n",
            "YC Barde                     6\n",
            "SD Fry                       5\n",
            "SK Tarapore                  5\n",
            "AM Saheba                    4\n",
            "VK Sharma                    4\n",
            "IJ Gould                     4\n",
            "R Pandit                     3\n",
            "Navdeep Singh                3\n",
            "GR Sadashiv Iyer             3\n",
            "K Bharatan                   3\n",
            "UV Gandhe                    3\n",
            "NA Patwardhan                2\n",
            "K Srinivasan                 2\n",
            "K Srinath                    2\n",
            "MA Gough                     2\n",
            "AV Jayaprakash               2\n",
            "HAS Khalid                   1\n",
            "SJA Taufel                   1\n",
            "SL Shastri                   1\n",
            "Tapan Sharma                 1\n",
            "Number of unique values in Umpire1 58\n",
            "Umpire2\n",
            "                       Umpire2\n",
            "S Ravi                      83\n",
            "C Shamshuddin               60\n",
            "SJA Taufel                  54\n",
            "Nitin Menon                 52\n",
            "RJ Tucker                   46\n",
            "CK Nandan                   43\n",
            "VK Sharma                   42\n",
            "VA Kulkarni                 38\n",
            "RB Tiffin                   30\n",
            "BNJ Oxenford                27\n",
            "SK Tarapore                 26\n",
            "RK Illingworth              25\n",
            "M Erasmus                   25\n",
            "CB Gaffaney                 22\n",
            "AM Saheba                   22\n",
            "YC Barde                    22\n",
            "PR Reiffel                  21\n",
            "RE Koertzen                 21\n",
            "NJ Llong                    20\n",
            "HDPK Dharmasena             18\n",
            "DJ Harper                   18\n",
            "AK Chaudhary                16\n",
            "UV Gandhe                   15\n",
            "SL Shastri                  13\n",
            "K Srinath                   13\n",
            "KN Ananthapadmanabhan       12\n",
            "S Asnani                    11\n",
            "K Hariharan                 11\n",
            "MA Gough                    10\n",
            "PG Pathak                    9\n",
            "A Nand Kishore               9\n",
            "BR Doctrove                  8\n",
            "Tapan Sharma                 7\n",
            "IL Howell                    7\n",
            "K Srinivasan                 7\n",
            "SS Hazare                    6\n",
            "AL Hill                      6\n",
            "I Shivram                    6\n",
            "N Pandit                     6\n",
            "GA Pratapkumar               6\n",
            "HAS Khalid                   6\n",
            "TH Wijewardene               5\n",
            "S Das                        5\n",
            "AV Jayaprakash               4\n",
            "Navdeep Singh                4\n",
            "NA Patwardhan                4\n",
            "BG Jerling                   4\n",
            "GR Sadashiv Iyer             3\n",
            "R Pandit                     3\n",
            "A Deshmukh                   3\n",
            "J Madanagopal                3\n",
            "SD Ranade                    2\n",
            "MR Benson                    2\n",
            "IJ Gould                     2\n",
            "AY Dandekar                  2\n",
            "SJ Davis                     1\n",
            "Subroto Das                  1\n",
            "BF Bowden                    1\n",
            "SD Fry                       1\n",
            "JD Cloete                    1\n",
            "Number of unique values in Umpire2 60\n"
          ]
        }
      ],
      "source": [
        "columns=['ID', 'City', 'Date', 'Season', 'MatchNumber', 'Team1', 'Team2',\n",
        "       'Venue', 'TossWinner', 'TossDecision', 'SuperOver', 'WinningTeam',\n",
        "       'WonBy', 'Margin', 'method', 'Player_of_Match', 'Team1Players',\n",
        "       'Team2Players', 'Umpire1', 'Umpire2']\n",
        "for col in columns:\n",
        "  print(col)\n",
        "  print(pd.DataFrame(df2[col].value_counts()))\n",
        "  print(f\"Number of unique values in {col} {df2[col].nunique()}\")"
      ]
    },
    {
      "cell_type": "markdown",
      "metadata": {
        "id": "yPl34YKO6W06"
      },
      "source": [
        "##ID"
      ]
    },
    {
      "cell_type": "markdown",
      "metadata": {
        "id": "zhCYsFiN7nFT"
      },
      "source": [
        "All id are unique"
      ]
    },
    {
      "cell_type": "code",
      "execution_count": null,
      "metadata": {
        "colab": {
          "base_uri": "https://localhost:8080/"
        },
        "id": "GmuYrRAh6hj5",
        "outputId": "fe5c39e7-fc0d-4ab9-8d8e-9f07ff41a58b"
      },
      "outputs": [
        {
          "output_type": "execute_result",
          "data": {
            "text/plain": [
              "950"
            ]
          },
          "metadata": {},
          "execution_count": 11
        }
      ],
      "source": [
        "df2['ID'].nunique()"
      ]
    },
    {
      "cell_type": "markdown",
      "metadata": {
        "id": "SerxMs7F7LmV"
      },
      "source": [
        "##City"
      ]
    },
    {
      "cell_type": "code",
      "source": [
        "df2.isna().sum()"
      ],
      "metadata": {
        "colab": {
          "base_uri": "https://localhost:8080/"
        },
        "id": "vw4KuQGRxwZ9",
        "outputId": "2b3eecbc-c393-4b94-9acb-ebbf683432e1"
      },
      "execution_count": null,
      "outputs": [
        {
          "output_type": "execute_result",
          "data": {
            "text/plain": [
              "ID                   0\n",
              "City                51\n",
              "Date                 0\n",
              "Season               0\n",
              "MatchNumber          0\n",
              "Team1                0\n",
              "Team2                0\n",
              "Venue                0\n",
              "TossWinner           0\n",
              "TossDecision         0\n",
              "SuperOver            4\n",
              "WinningTeam          4\n",
              "WonBy                0\n",
              "Margin              18\n",
              "method             931\n",
              "Player_of_Match      4\n",
              "Team1Players         0\n",
              "Team2Players         0\n",
              "Umpire1              0\n",
              "Umpire2              0\n",
              "dtype: int64"
            ]
          },
          "metadata": {},
          "execution_count": 12
        }
      ]
    },
    {
      "cell_type": "code",
      "execution_count": null,
      "metadata": {
        "colab": {
          "base_uri": "https://localhost:8080/"
        },
        "id": "mHY6UnPl7NLJ",
        "outputId": "47c3f7f3-beb5-47cc-ad02-7d31cb3a5056"
      },
      "outputs": [
        {
          "output_type": "execute_result",
          "data": {
            "text/plain": [
              "33"
            ]
          },
          "metadata": {},
          "execution_count": 13
        }
      ],
      "source": [
        "df2[\"City\"].nunique()"
      ]
    },
    {
      "cell_type": "code",
      "execution_count": null,
      "metadata": {
        "colab": {
          "base_uri": "https://localhost:8080/"
        },
        "id": "KoPfZ21BXuE0",
        "outputId": "bb3b1a6a-3378-4239-ecf0-143721280801"
      },
      "outputs": [
        {
          "output_type": "execute_result",
          "data": {
            "text/plain": [
              "array(['Ahmedabad', 'Kolkata', 'Mumbai', 'Navi Mumbai', 'Pune', 'Dubai',\n",
              "       'Sharjah', 'Abu Dhabi', 'Delhi', 'Chennai', nan, 'Hyderabad',\n",
              "       'Visakhapatnam', 'Chandigarh', 'Bengaluru', 'Jaipur', 'Indore',\n",
              "       'Bangalore', 'Kanpur', 'Rajkot', 'Raipur', 'Ranchi', 'Cuttack',\n",
              "       'Dharamsala', 'Kochi', 'Nagpur', 'Johannesburg', 'Centurion',\n",
              "       'Durban', 'Bloemfontein', 'Port Elizabeth', 'Kimberley',\n",
              "       'East London', 'Cape Town'], dtype=object)"
            ]
          },
          "metadata": {},
          "execution_count": 14
        }
      ],
      "source": [
        "df2[\"City\"].unique()"
      ]
    },
    {
      "cell_type": "code",
      "execution_count": null,
      "metadata": {
        "id": "RC773afyYCFn"
      },
      "outputs": [],
      "source": [
        "\n",
        "df2 = df2.replace('Bengaluru','Bangalore')"
      ]
    },
    {
      "cell_type": "code",
      "execution_count": null,
      "metadata": {
        "colab": {
          "base_uri": "https://localhost:8080/"
        },
        "id": "J_32xrorYTPy",
        "outputId": "dcc58720-596f-4de5-fc68-3306f2277ecb"
      },
      "outputs": [
        {
          "output_type": "execute_result",
          "data": {
            "text/plain": [
              "array(['Ahmedabad', 'Kolkata', 'Mumbai', 'Navi Mumbai', 'Pune', 'Dubai',\n",
              "       'Sharjah', 'Abu Dhabi', 'Delhi', 'Chennai', nan, 'Hyderabad',\n",
              "       'Visakhapatnam', 'Chandigarh', 'Bangalore', 'Jaipur', 'Indore',\n",
              "       'Kanpur', 'Rajkot', 'Raipur', 'Ranchi', 'Cuttack', 'Dharamsala',\n",
              "       'Kochi', 'Nagpur', 'Johannesburg', 'Centurion', 'Durban',\n",
              "       'Bloemfontein', 'Port Elizabeth', 'Kimberley', 'East London',\n",
              "       'Cape Town'], dtype=object)"
            ]
          },
          "metadata": {},
          "execution_count": 16
        }
      ],
      "source": [
        "df2[\"City\"].unique()"
      ]
    },
    {
      "cell_type": "code",
      "source": [],
      "metadata": {
        "id": "98M6j0fGxfir"
      },
      "execution_count": null,
      "outputs": []
    },
    {
      "cell_type": "code",
      "execution_count": null,
      "metadata": {
        "id": "VYJ3EN6_Dy0G"
      },
      "outputs": [],
      "source": [
        "a=df2[['City','Venue']]"
      ]
    },
    {
      "cell_type": "code",
      "execution_count": null,
      "metadata": {
        "id": "KDWxYF1BDfht"
      },
      "outputs": [],
      "source": [
        "nan_rows = a[a.isna().any(axis=1)]"
      ]
    },
    {
      "cell_type": "code",
      "execution_count": null,
      "metadata": {
        "colab": {
          "base_uri": "https://localhost:8080/",
          "height": 206
        },
        "id": "PLgPA2PCD-7M",
        "outputId": "c91c905e-025e-46b7-b91e-3a93b37886d6"
      },
      "outputs": [
        {
          "output_type": "execute_result",
          "data": {
            "text/plain": [
              "    City                                Venue\n",
              "134  NaN  Dubai International Cricket Stadium\n",
              "137  NaN  Dubai International Cricket Stadium\n",
              "138  NaN              Sharjah Cricket Stadium\n",
              "140  NaN  Dubai International Cricket Stadium\n",
              "142  NaN  Dubai International Cricket Stadium"
            ],
            "text/html": [
              "\n",
              "  <div id=\"df-fda33a82-bbca-4b29-b50a-fb633152f4d7\" class=\"colab-df-container\">\n",
              "    <div>\n",
              "<style scoped>\n",
              "    .dataframe tbody tr th:only-of-type {\n",
              "        vertical-align: middle;\n",
              "    }\n",
              "\n",
              "    .dataframe tbody tr th {\n",
              "        vertical-align: top;\n",
              "    }\n",
              "\n",
              "    .dataframe thead th {\n",
              "        text-align: right;\n",
              "    }\n",
              "</style>\n",
              "<table border=\"1\" class=\"dataframe\">\n",
              "  <thead>\n",
              "    <tr style=\"text-align: right;\">\n",
              "      <th></th>\n",
              "      <th>City</th>\n",
              "      <th>Venue</th>\n",
              "    </tr>\n",
              "  </thead>\n",
              "  <tbody>\n",
              "    <tr>\n",
              "      <th>134</th>\n",
              "      <td>NaN</td>\n",
              "      <td>Dubai International Cricket Stadium</td>\n",
              "    </tr>\n",
              "    <tr>\n",
              "      <th>137</th>\n",
              "      <td>NaN</td>\n",
              "      <td>Dubai International Cricket Stadium</td>\n",
              "    </tr>\n",
              "    <tr>\n",
              "      <th>138</th>\n",
              "      <td>NaN</td>\n",
              "      <td>Sharjah Cricket Stadium</td>\n",
              "    </tr>\n",
              "    <tr>\n",
              "      <th>140</th>\n",
              "      <td>NaN</td>\n",
              "      <td>Dubai International Cricket Stadium</td>\n",
              "    </tr>\n",
              "    <tr>\n",
              "      <th>142</th>\n",
              "      <td>NaN</td>\n",
              "      <td>Dubai International Cricket Stadium</td>\n",
              "    </tr>\n",
              "  </tbody>\n",
              "</table>\n",
              "</div>\n",
              "    <div class=\"colab-df-buttons\">\n",
              "\n",
              "  <div class=\"colab-df-container\">\n",
              "    <button class=\"colab-df-convert\" onclick=\"convertToInteractive('df-fda33a82-bbca-4b29-b50a-fb633152f4d7')\"\n",
              "            title=\"Convert this dataframe to an interactive table.\"\n",
              "            style=\"display:none;\">\n",
              "\n",
              "  <svg xmlns=\"http://www.w3.org/2000/svg\" height=\"24px\" viewBox=\"0 -960 960 960\">\n",
              "    <path d=\"M120-120v-720h720v720H120Zm60-500h600v-160H180v160Zm220 220h160v-160H400v160Zm0 220h160v-160H400v160ZM180-400h160v-160H180v160Zm440 0h160v-160H620v160ZM180-180h160v-160H180v160Zm440 0h160v-160H620v160Z\"/>\n",
              "  </svg>\n",
              "    </button>\n",
              "\n",
              "  <style>\n",
              "    .colab-df-container {\n",
              "      display:flex;\n",
              "      gap: 12px;\n",
              "    }\n",
              "\n",
              "    .colab-df-convert {\n",
              "      background-color: #E8F0FE;\n",
              "      border: none;\n",
              "      border-radius: 50%;\n",
              "      cursor: pointer;\n",
              "      display: none;\n",
              "      fill: #1967D2;\n",
              "      height: 32px;\n",
              "      padding: 0 0 0 0;\n",
              "      width: 32px;\n",
              "    }\n",
              "\n",
              "    .colab-df-convert:hover {\n",
              "      background-color: #E2EBFA;\n",
              "      box-shadow: 0px 1px 2px rgba(60, 64, 67, 0.3), 0px 1px 3px 1px rgba(60, 64, 67, 0.15);\n",
              "      fill: #174EA6;\n",
              "    }\n",
              "\n",
              "    .colab-df-buttons div {\n",
              "      margin-bottom: 4px;\n",
              "    }\n",
              "\n",
              "    [theme=dark] .colab-df-convert {\n",
              "      background-color: #3B4455;\n",
              "      fill: #D2E3FC;\n",
              "    }\n",
              "\n",
              "    [theme=dark] .colab-df-convert:hover {\n",
              "      background-color: #434B5C;\n",
              "      box-shadow: 0px 1px 3px 1px rgba(0, 0, 0, 0.15);\n",
              "      filter: drop-shadow(0px 1px 2px rgba(0, 0, 0, 0.3));\n",
              "      fill: #FFFFFF;\n",
              "    }\n",
              "  </style>\n",
              "\n",
              "    <script>\n",
              "      const buttonEl =\n",
              "        document.querySelector('#df-fda33a82-bbca-4b29-b50a-fb633152f4d7 button.colab-df-convert');\n",
              "      buttonEl.style.display =\n",
              "        google.colab.kernel.accessAllowed ? 'block' : 'none';\n",
              "\n",
              "      async function convertToInteractive(key) {\n",
              "        const element = document.querySelector('#df-fda33a82-bbca-4b29-b50a-fb633152f4d7');\n",
              "        const dataTable =\n",
              "          await google.colab.kernel.invokeFunction('convertToInteractive',\n",
              "                                                    [key], {});\n",
              "        if (!dataTable) return;\n",
              "\n",
              "        const docLinkHtml = 'Like what you see? Visit the ' +\n",
              "          '<a target=\"_blank\" href=https://colab.research.google.com/notebooks/data_table.ipynb>data table notebook</a>'\n",
              "          + ' to learn more about interactive tables.';\n",
              "        element.innerHTML = '';\n",
              "        dataTable['output_type'] = 'display_data';\n",
              "        await google.colab.output.renderOutput(dataTable, element);\n",
              "        const docLink = document.createElement('div');\n",
              "        docLink.innerHTML = docLinkHtml;\n",
              "        element.appendChild(docLink);\n",
              "      }\n",
              "    </script>\n",
              "  </div>\n",
              "\n",
              "\n",
              "<div id=\"df-a9394b4b-9323-47c3-ba5e-ff943ec5f6a9\">\n",
              "  <button class=\"colab-df-quickchart\" onclick=\"quickchart('df-a9394b4b-9323-47c3-ba5e-ff943ec5f6a9')\"\n",
              "            title=\"Suggest charts\"\n",
              "            style=\"display:none;\">\n",
              "\n",
              "<svg xmlns=\"http://www.w3.org/2000/svg\" height=\"24px\"viewBox=\"0 0 24 24\"\n",
              "     width=\"24px\">\n",
              "    <g>\n",
              "        <path d=\"M19 3H5c-1.1 0-2 .9-2 2v14c0 1.1.9 2 2 2h14c1.1 0 2-.9 2-2V5c0-1.1-.9-2-2-2zM9 17H7v-7h2v7zm4 0h-2V7h2v10zm4 0h-2v-4h2v4z\"/>\n",
              "    </g>\n",
              "</svg>\n",
              "  </button>\n",
              "\n",
              "<style>\n",
              "  .colab-df-quickchart {\n",
              "      --bg-color: #E8F0FE;\n",
              "      --fill-color: #1967D2;\n",
              "      --hover-bg-color: #E2EBFA;\n",
              "      --hover-fill-color: #174EA6;\n",
              "      --disabled-fill-color: #AAA;\n",
              "      --disabled-bg-color: #DDD;\n",
              "  }\n",
              "\n",
              "  [theme=dark] .colab-df-quickchart {\n",
              "      --bg-color: #3B4455;\n",
              "      --fill-color: #D2E3FC;\n",
              "      --hover-bg-color: #434B5C;\n",
              "      --hover-fill-color: #FFFFFF;\n",
              "      --disabled-bg-color: #3B4455;\n",
              "      --disabled-fill-color: #666;\n",
              "  }\n",
              "\n",
              "  .colab-df-quickchart {\n",
              "    background-color: var(--bg-color);\n",
              "    border: none;\n",
              "    border-radius: 50%;\n",
              "    cursor: pointer;\n",
              "    display: none;\n",
              "    fill: var(--fill-color);\n",
              "    height: 32px;\n",
              "    padding: 0;\n",
              "    width: 32px;\n",
              "  }\n",
              "\n",
              "  .colab-df-quickchart:hover {\n",
              "    background-color: var(--hover-bg-color);\n",
              "    box-shadow: 0 1px 2px rgba(60, 64, 67, 0.3), 0 1px 3px 1px rgba(60, 64, 67, 0.15);\n",
              "    fill: var(--button-hover-fill-color);\n",
              "  }\n",
              "\n",
              "  .colab-df-quickchart-complete:disabled,\n",
              "  .colab-df-quickchart-complete:disabled:hover {\n",
              "    background-color: var(--disabled-bg-color);\n",
              "    fill: var(--disabled-fill-color);\n",
              "    box-shadow: none;\n",
              "  }\n",
              "\n",
              "  .colab-df-spinner {\n",
              "    border: 2px solid var(--fill-color);\n",
              "    border-color: transparent;\n",
              "    border-bottom-color: var(--fill-color);\n",
              "    animation:\n",
              "      spin 1s steps(1) infinite;\n",
              "  }\n",
              "\n",
              "  @keyframes spin {\n",
              "    0% {\n",
              "      border-color: transparent;\n",
              "      border-bottom-color: var(--fill-color);\n",
              "      border-left-color: var(--fill-color);\n",
              "    }\n",
              "    20% {\n",
              "      border-color: transparent;\n",
              "      border-left-color: var(--fill-color);\n",
              "      border-top-color: var(--fill-color);\n",
              "    }\n",
              "    30% {\n",
              "      border-color: transparent;\n",
              "      border-left-color: var(--fill-color);\n",
              "      border-top-color: var(--fill-color);\n",
              "      border-right-color: var(--fill-color);\n",
              "    }\n",
              "    40% {\n",
              "      border-color: transparent;\n",
              "      border-right-color: var(--fill-color);\n",
              "      border-top-color: var(--fill-color);\n",
              "    }\n",
              "    60% {\n",
              "      border-color: transparent;\n",
              "      border-right-color: var(--fill-color);\n",
              "    }\n",
              "    80% {\n",
              "      border-color: transparent;\n",
              "      border-right-color: var(--fill-color);\n",
              "      border-bottom-color: var(--fill-color);\n",
              "    }\n",
              "    90% {\n",
              "      border-color: transparent;\n",
              "      border-bottom-color: var(--fill-color);\n",
              "    }\n",
              "  }\n",
              "</style>\n",
              "\n",
              "  <script>\n",
              "    async function quickchart(key) {\n",
              "      const quickchartButtonEl =\n",
              "        document.querySelector('#' + key + ' button');\n",
              "      quickchartButtonEl.disabled = true;  // To prevent multiple clicks.\n",
              "      quickchartButtonEl.classList.add('colab-df-spinner');\n",
              "      try {\n",
              "        const charts = await google.colab.kernel.invokeFunction(\n",
              "            'suggestCharts', [key], {});\n",
              "      } catch (error) {\n",
              "        console.error('Error during call to suggestCharts:', error);\n",
              "      }\n",
              "      quickchartButtonEl.classList.remove('colab-df-spinner');\n",
              "      quickchartButtonEl.classList.add('colab-df-quickchart-complete');\n",
              "    }\n",
              "    (() => {\n",
              "      let quickchartButtonEl =\n",
              "        document.querySelector('#df-a9394b4b-9323-47c3-ba5e-ff943ec5f6a9 button');\n",
              "      quickchartButtonEl.style.display =\n",
              "        google.colab.kernel.accessAllowed ? 'block' : 'none';\n",
              "    })();\n",
              "  </script>\n",
              "</div>\n",
              "    </div>\n",
              "  </div>\n"
            ]
          },
          "metadata": {},
          "execution_count": 19
        }
      ],
      "source": [
        "nan_rows.head()"
      ]
    },
    {
      "cell_type": "code",
      "execution_count": null,
      "metadata": {
        "colab": {
          "base_uri": "https://localhost:8080/"
        },
        "id": "hWrCTjYREY9d",
        "outputId": "8764e67a-b6c9-45b0-de0d-40da96e0dc1b"
      },
      "outputs": [
        {
          "output_type": "execute_result",
          "data": {
            "text/plain": [
              "Sharjah    10\n",
              "Name: City, dtype: int64"
            ]
          },
          "metadata": {},
          "execution_count": 20
        }
      ],
      "source": [
        "filtered_rows = df2[df2['Venue'] == 'Sharjah Cricket Stadium']\n",
        "\n",
        "# Access the 'City' column of the filtered DataFrame\n",
        "filtered_rows['City'].value_counts()"
      ]
    },
    {
      "cell_type": "code",
      "execution_count": null,
      "metadata": {
        "colab": {
          "base_uri": "https://localhost:8080/"
        },
        "id": "m_CEnXgXOLMW",
        "outputId": "aa83c609-c0be-40e0-f867-5bfa54936911"
      },
      "outputs": [
        {
          "output_type": "execute_result",
          "data": {
            "text/plain": [
              "33"
            ]
          },
          "metadata": {},
          "execution_count": 21
        }
      ],
      "source": [
        "mask = df2['Venue'] == 'Sharjah Cricket Stadium'\n",
        "\n",
        "# Fill NaN values in the 'City' column of matching rows with 'Dubai'\n",
        "df2.loc[mask, 'City'] = 'Sharjah'\n",
        "\n",
        "df2['City'].isna().sum()"
      ]
    },
    {
      "cell_type": "code",
      "execution_count": null,
      "metadata": {
        "colab": {
          "base_uri": "https://localhost:8080/"
        },
        "id": "NU1Q20clFfvy",
        "outputId": "54c826e9-7a1c-4054-aa85-d3c69b99cc57"
      },
      "outputs": [
        {
          "output_type": "execute_result",
          "data": {
            "text/plain": [
              "Dubai    13\n",
              "Name: City, dtype: int64"
            ]
          },
          "metadata": {},
          "execution_count": 22
        }
      ],
      "source": [
        "filtered = df2[df2['Venue'] == 'Dubai International Cricket Stadium']\n",
        "\n",
        "# Access the 'City' column of the filtered DataFrame\n",
        "filtered['City'].value_counts()"
      ]
    },
    {
      "cell_type": "code",
      "execution_count": null,
      "metadata": {
        "id": "OlECWsihJAnQ"
      },
      "outputs": [],
      "source": [
        "mask = df2['Venue'] == 'Dubai International Cricket Stadium'\n",
        "# Fill NaN values in the 'City' column of matching rows with 'Dubai'\n",
        "df2.loc[mask, 'City'] = 'Dubai'\n",
        "# Display the updated DataFrame"
      ]
    },
    {
      "cell_type": "code",
      "execution_count": null,
      "metadata": {
        "colab": {
          "base_uri": "https://localhost:8080/"
        },
        "id": "K7fDUdbfOvf9",
        "outputId": "413be767-262e-4645-e883-dfe87afa5a98"
      },
      "outputs": [
        {
          "output_type": "execute_result",
          "data": {
            "text/plain": [
              "0"
            ]
          },
          "metadata": {},
          "execution_count": 24
        }
      ],
      "source": [
        "df2[\"City\"].isna().sum()"
      ]
    },
    {
      "cell_type": "code",
      "execution_count": null,
      "metadata": {
        "colab": {
          "base_uri": "https://localhost:8080/"
        },
        "id": "ZGumLWQu7Weu",
        "outputId": "0888bd7e-b366-41bb-f238-d49746430bdb"
      },
      "outputs": [
        {
          "output_type": "execute_result",
          "data": {
            "text/plain": [
              "950"
            ]
          },
          "metadata": {},
          "execution_count": 25
        }
      ],
      "source": [
        "df2['City'].count()"
      ]
    },
    {
      "cell_type": "markdown",
      "metadata": {
        "id": "aaUeyZTR6sVk"
      },
      "source": [
        "In city there are 51 nan values we replace nan values where venue is Dubai International Cricket Stadium by dubai and where venue is Sharjah Cricket Stadium by Sharjah"
      ]
    },
    {
      "cell_type": "markdown",
      "metadata": {
        "id": "Ull9R_-J78N4"
      },
      "source": [
        "##Date"
      ]
    },
    {
      "cell_type": "code",
      "execution_count": null,
      "metadata": {
        "colab": {
          "base_uri": "https://localhost:8080/"
        },
        "id": "JkHFn00s8FoB",
        "outputId": "8e43833c-f182-400c-e5f2-47e713d69957"
      },
      "outputs": [
        {
          "output_type": "execute_result",
          "data": {
            "text/plain": [
              "706"
            ]
          },
          "metadata": {},
          "execution_count": 26
        }
      ],
      "source": [
        "df2['Date'].nunique()"
      ]
    },
    {
      "cell_type": "code",
      "execution_count": null,
      "metadata": {
        "colab": {
          "base_uri": "https://localhost:8080/"
        },
        "id": "0hGE6ija8Z6m",
        "outputId": "4cc65921-1a6d-4dc9-de40-530df48eab2f"
      },
      "outputs": [
        {
          "output_type": "execute_result",
          "data": {
            "text/plain": [
              "2014-05-10    2\n",
              "2011-05-04    2\n",
              "2016-04-23    2\n",
              "2011-04-22    2\n",
              "2016-04-24    2\n",
              "             ..\n",
              "2017-05-21    1\n",
              "2017-05-19    1\n",
              "2017-05-17    1\n",
              "2017-05-16    1\n",
              "2008-04-18    1\n",
              "Name: Date, Length: 706, dtype: int64"
            ]
          },
          "metadata": {},
          "execution_count": 27
        }
      ],
      "source": [
        "df2['Date'].value_counts()"
      ]
    },
    {
      "cell_type": "markdown",
      "metadata": {
        "id": "xF6AXw9c8slq"
      },
      "source": [
        "It means that on one day 2 matches are also played"
      ]
    },
    {
      "cell_type": "markdown",
      "metadata": {
        "id": "yGQbdDVr86br"
      },
      "source": [
        "##MatchNumber"
      ]
    },
    {
      "cell_type": "code",
      "execution_count": null,
      "metadata": {
        "colab": {
          "base_uri": "https://localhost:8080/"
        },
        "id": "cvylxuOr9Mf6",
        "outputId": "2db738a1-c2f9-4082-9650-0672828cbe93"
      },
      "outputs": [
        {
          "output_type": "execute_result",
          "data": {
            "text/plain": [
              "80"
            ]
          },
          "metadata": {},
          "execution_count": 28
        }
      ],
      "source": [
        "df2['MatchNumber'].nunique()"
      ]
    },
    {
      "cell_type": "code",
      "execution_count": null,
      "metadata": {
        "colab": {
          "base_uri": "https://localhost:8080/"
        },
        "id": "i1VNLqBA9ZAC",
        "outputId": "765fb876-ed2a-4814-91be-5d7e6752a973"
      },
      "outputs": [
        {
          "output_type": "execute_result",
          "data": {
            "text/plain": [
              "Final                 15\n",
              "36                    15\n",
              "46                    15\n",
              "45                    15\n",
              "44                    15\n",
              "                      ..\n",
              "65                     4\n",
              "Elimination Final      3\n",
              "72                     2\n",
              "71                     2\n",
              "3rd Place Play-Off     1\n",
              "Name: MatchNumber, Length: 80, dtype: int64"
            ]
          },
          "metadata": {},
          "execution_count": 29
        }
      ],
      "source": [
        "df2['MatchNumber'].value_counts()"
      ]
    },
    {
      "cell_type": "markdown",
      "metadata": {
        "id": "N1pEG7eV8UGR"
      },
      "source": [
        "Here we have both string and integer"
      ]
    },
    {
      "cell_type": "markdown",
      "metadata": {
        "id": "Z6fhx9XL7Io3"
      },
      "source": [
        "##season done"
      ]
    },
    {
      "cell_type": "code",
      "execution_count": null,
      "metadata": {
        "colab": {
          "base_uri": "https://localhost:8080/"
        },
        "id": "0imyvu4OzlwV",
        "outputId": "6edb2438-0e64-4a9e-d1d7-5375e11bef9a"
      },
      "outputs": [
        {
          "output_type": "execute_result",
          "data": {
            "text/plain": [
              "Season\n",
              "2007/08    58\n",
              "2009       57\n",
              "2009/10    60\n",
              "2011       73\n",
              "2012       74\n",
              "2013       76\n",
              "2014       60\n",
              "2015       59\n",
              "2016       60\n",
              "2017       59\n",
              "2018       60\n",
              "2019       60\n",
              "2020/21    60\n",
              "2021       60\n",
              "2022       74\n",
              "Name: ID, dtype: int64"
            ]
          },
          "metadata": {},
          "execution_count": 30
        }
      ],
      "source": [
        "df2.groupby(['Season'])['ID'].nunique()"
      ]
    },
    {
      "cell_type": "code",
      "execution_count": null,
      "metadata": {
        "id": "4KkcrpU_060M"
      },
      "outputs": [],
      "source": [
        "df2['Season']=df2['Season'].replace('2007/08','2008')\n",
        "df2['Season']=df2['Season'].replace('2009/10','2010')\n",
        "df2['Season']=df2['Season'].replace('2020/21','2020')"
      ]
    },
    {
      "cell_type": "code",
      "execution_count": null,
      "metadata": {
        "colab": {
          "base_uri": "https://localhost:8080/"
        },
        "id": "dxm9DzBN1k1d",
        "outputId": "7bb7923b-d653-4ca3-8f01-ff1dd9a2e06c"
      },
      "outputs": [
        {
          "output_type": "execute_result",
          "data": {
            "text/plain": [
              "array(['2022', '2021', '2020', '2019', '2018', '2017', '2016', '2015',\n",
              "       '2014', '2013', '2012', '2011', '2010', '2009', '2008'],\n",
              "      dtype=object)"
            ]
          },
          "metadata": {},
          "execution_count": 32
        }
      ],
      "source": [
        "df2['Season'].unique()"
      ]
    },
    {
      "cell_type": "code",
      "execution_count": null,
      "metadata": {
        "colab": {
          "base_uri": "https://localhost:8080/"
        },
        "id": "Ohb_Z-Yd7StC",
        "outputId": "f0ae5a4e-b354-4264-95b7-06a42cc4b24e"
      },
      "outputs": [
        {
          "output_type": "execute_result",
          "data": {
            "text/plain": [
              "ID                   0\n",
              "City                 0\n",
              "Date                 0\n",
              "Season               0\n",
              "MatchNumber          0\n",
              "Team1                0\n",
              "Team2                0\n",
              "Venue                0\n",
              "TossWinner           0\n",
              "TossDecision         0\n",
              "SuperOver            4\n",
              "WinningTeam          4\n",
              "WonBy                0\n",
              "Margin              18\n",
              "method             931\n",
              "Player_of_Match      4\n",
              "Team1Players         0\n",
              "Team2Players         0\n",
              "Umpire1              0\n",
              "Umpire2              0\n",
              "dtype: int64"
            ]
          },
          "metadata": {},
          "execution_count": 33
        }
      ],
      "source": [
        "df2.isna().sum()"
      ]
    },
    {
      "cell_type": "markdown",
      "metadata": {
        "id": "fnuYRHPf8Q9p"
      },
      "source": [
        "##Team 1 and Team 2 and Toss winner Here i have changed the team names according to latest information"
      ]
    },
    {
      "cell_type": "code",
      "execution_count": null,
      "metadata": {
        "colab": {
          "base_uri": "https://localhost:8080/"
        },
        "id": "9pqGb-8t8Udj",
        "outputId": "dafd6e00-ecde-461a-e3aa-7e6091dcc179"
      },
      "outputs": [
        {
          "output_type": "execute_result",
          "data": {
            "text/plain": [
              "array(['Rajasthan Royals', 'Royal Challengers Bangalore',\n",
              "       'Sunrisers Hyderabad', 'Delhi Capitals', 'Chennai Super Kings',\n",
              "       'Gujarat Titans', 'Lucknow Super Giants', 'Kolkata Knight Riders',\n",
              "       'Punjab Kings', 'Mumbai Indians', 'Kings XI Punjab',\n",
              "       'Delhi Daredevils', 'Rising Pune Supergiant', 'Gujarat Lions',\n",
              "       'Rising Pune Supergiants', 'Pune Warriors', 'Deccan Chargers',\n",
              "       'Kochi Tuskers Kerala'], dtype=object)"
            ]
          },
          "metadata": {},
          "execution_count": 34
        }
      ],
      "source": [
        "df2[\"Team1\"].unique()"
      ]
    },
    {
      "cell_type": "code",
      "execution_count": null,
      "metadata": {
        "id": "xuZVRie7BDWv"
      },
      "outputs": [],
      "source": [
        "df2 = df2.replace('Rising Pune Supergiants','Rising Pune Supergiant')\n",
        "df2 = df2.replace('Delhi Daredevils','Delhi Capitals')\n",
        "df2 = df2.replace('Kings XI Punjab','Punjab Kings')\n"
      ]
    },
    {
      "cell_type": "code",
      "execution_count": null,
      "metadata": {
        "colab": {
          "base_uri": "https://localhost:8080/"
        },
        "id": "x2adxsnSCWXE",
        "outputId": "7fde138d-4ed6-41a5-f2a4-d1a72193896f"
      },
      "outputs": [
        {
          "output_type": "execute_result",
          "data": {
            "text/plain": [
              "Index(['ID', 'City', 'Date', 'Season', 'MatchNumber', 'Team1', 'Team2',\n",
              "       'Venue', 'TossWinner', 'TossDecision', 'SuperOver', 'WinningTeam',\n",
              "       'WonBy', 'Margin', 'method', 'Player_of_Match', 'Team1Players',\n",
              "       'Team2Players', 'Umpire1', 'Umpire2'],\n",
              "      dtype='object')"
            ]
          },
          "metadata": {},
          "execution_count": 36
        }
      ],
      "source": [
        "df2.columns"
      ]
    },
    {
      "cell_type": "code",
      "execution_count": null,
      "metadata": {
        "colab": {
          "base_uri": "https://localhost:8080/"
        },
        "id": "VTheai9WBkjz",
        "outputId": "489aff63-c622-4e08-f3af-ba7bfcd692b5"
      },
      "outputs": [
        {
          "output_type": "execute_result",
          "data": {
            "text/plain": [
              "Royal Challengers Bangalore    126\n",
              "Delhi Capitals                 114\n",
              "Mumbai Indians                 112\n",
              "Chennai Super Kings            111\n",
              "Punjab Kings                   110\n",
              "Kolkata Knight Riders          105\n",
              "Rajasthan Royals                89\n",
              "Sunrisers Hyderabad             69\n",
              "Deccan Chargers                 39\n",
              "Pune Warriors                   23\n",
              "Gujarat Lions                   16\n",
              "Rising Pune Supergiant          14\n",
              "Lucknow Super Giants             8\n",
              "Gujarat Titans                   7\n",
              "Kochi Tuskers Kerala             7\n",
              "Name: Team1, dtype: int64"
            ]
          },
          "metadata": {},
          "execution_count": 37
        }
      ],
      "source": [
        "df2['Team1'].value_counts()"
      ]
    },
    {
      "cell_type": "code",
      "execution_count": null,
      "metadata": {
        "colab": {
          "base_uri": "https://localhost:8080/"
        },
        "id": "9IAwT8c3PoYi",
        "outputId": "ef4a4207-1feb-4600-f769-568eac9a26da"
      },
      "outputs": [
        {
          "output_type": "execute_result",
          "data": {
            "text/plain": [
              "D/L    19\n",
              "Name: method, dtype: int64"
            ]
          },
          "metadata": {},
          "execution_count": 38
        }
      ],
      "source": [
        "df2['method'].value_counts()"
      ]
    },
    {
      "cell_type": "markdown",
      "metadata": {
        "id": "rv5OeFzxQWb8"
      },
      "source": [
        "**bold text**##Method"
      ]
    },
    {
      "cell_type": "code",
      "execution_count": null,
      "metadata": {
        "id": "2yffN-X3QAvl"
      },
      "outputs": [],
      "source": [
        "df2['method'].fillna(\"Regular Match\",inplace=True)"
      ]
    },
    {
      "cell_type": "code",
      "execution_count": null,
      "metadata": {
        "colab": {
          "base_uri": "https://localhost:8080/"
        },
        "id": "LePRAGmjQvVP",
        "outputId": "2d198af0-d40e-4a3c-8953-1707d7c4bec0"
      },
      "outputs": [
        {
          "output_type": "execute_result",
          "data": {
            "text/plain": [
              "Regular Match    931\n",
              "D/L               19\n",
              "Name: method, dtype: int64"
            ]
          },
          "metadata": {},
          "execution_count": 40
        }
      ],
      "source": [
        "df2[\"method\"].value_counts()"
      ]
    },
    {
      "cell_type": "markdown",
      "metadata": {
        "id": "WRaXGecLKe45"
      },
      "source": [
        "##Venue"
      ]
    },
    {
      "cell_type": "code",
      "execution_count": null,
      "metadata": {
        "colab": {
          "base_uri": "https://localhost:8080/"
        },
        "id": "nDLqoGQeKdaE",
        "outputId": "dddc4e29-d5cc-4232-9df0-eaf6b190724f"
      },
      "outputs": [
        {
          "output_type": "execute_result",
          "data": {
            "text/plain": [
              "Eden Gardens                                            77\n",
              "Wankhede Stadium                                        73\n",
              "M Chinnaswamy Stadium                                   65\n",
              "Feroz Shah Kotla                                        60\n",
              "Rajiv Gandhi International Stadium, Uppal               49\n",
              "MA Chidambaram Stadium, Chepauk                         48\n",
              "Sawai Mansingh Stadium                                  47\n",
              "Dubai International Cricket Stadium                     46\n",
              "Punjab Cricket Association Stadium, Mohali              35\n",
              "Wankhede Stadium, Mumbai                                31\n",
              "Sheikh Zayed Stadium                                    29\n",
              "Sharjah Cricket Stadium                                 28\n",
              "Maharashtra Cricket Association Stadium                 22\n",
              "Dr DY Patil Sports Academy, Mumbai                      20\n",
              "Dr DY Patil Sports Academy                              17\n",
              "Brabourne Stadium, Mumbai                               17\n",
              "Subrata Roy Sahara Stadium                              16\n",
              "Rajiv Gandhi International Stadium                      15\n",
              "Kingsmead                                               15\n",
              "M.Chinnaswamy Stadium                                   15\n",
              "Arun Jaitley Stadium                                    14\n",
              "Dr. Y.S. Rajasekhara Reddy ACA-VDCA Cricket Stadium     13\n",
              "Maharashtra Cricket Association Stadium, Pune           13\n",
              "SuperSport Park                                         12\n",
              "Sardar Patel Stadium, Motera                            12\n",
              "Punjab Cricket Association IS Bindra Stadium, Mohali    11\n",
              "Punjab Cricket Association IS Bindra Stadium            10\n",
              "MA Chidambaram Stadium, Chepauk, Chennai                10\n",
              "Saurashtra Cricket Association Stadium                  10\n",
              "Brabourne Stadium                                       10\n",
              "Holkar Cricket Stadium                                   9\n",
              "MA Chidambaram Stadium                                   9\n",
              "Himachal Pradesh Cricket Association Stadium             9\n",
              "New Wanderers Stadium                                    8\n",
              "Zayed Cricket Stadium, Abu Dhabi                         8\n",
              "St George's Park                                         7\n",
              "Narendra Modi Stadium, Ahmedabad                         7\n",
              "Barabati Stadium                                         7\n",
              "JSCA International Stadium Complex                       7\n",
              "Newlands                                                 7\n",
              "Shaheed Veer Narayan Singh International Stadium         6\n",
              "Nehru Stadium                                            5\n",
              "Green Park                                               4\n",
              "Arun Jaitley Stadium, Delhi                              4\n",
              "Vidarbha Cricket Association Stadium, Jamtha             3\n",
              "De Beers Diamond Oval                                    3\n",
              "Buffalo Park                                             3\n",
              "Eden Gardens, Kolkata                                    2\n",
              "OUTsurance Oval                                          2\n",
              "Name: Venue, dtype: int64"
            ]
          },
          "metadata": {},
          "execution_count": 41
        }
      ],
      "source": [
        "df2[\"Venue\"].value_counts()"
      ]
    },
    {
      "cell_type": "code",
      "execution_count": null,
      "metadata": {
        "id": "VJqNSBhRLBjp"
      },
      "outputs": [],
      "source": [
        "df2['Venue']=df2['Venue'].replace('Arun Jaitley Stadium, Delhi','Arun Jaitley Stadium')\n",
        "df2['Venue']=df2['Venue'].replace('Brabourne Stadium, Mumbai','Brabourne Stadium')\n",
        "df2['Venue']=df2['Venue'].replace('Dr DY Patil Sports Academy, Mumbai','Dr DY Patil Sports Academy')\n",
        "df2['Venue']=df2['Venue'].replace('Eden Gardens, Kolkata','Eden Gardens')\n",
        "df2['Venue']=df2['Venue'].replace('Feroz Shah Kotla','Arun Jaitley Stadium')\n",
        "df2['Venue']=df2['Venue'].replace('M.Chinnaswamy Stadium','M Chinnaswamy Stadium')\n",
        "df2['Venue']=df2['Venue'].replace('MA Chidambaram Stadium, Chepauk, Chennai','MA Chidambaram Stadium')\n",
        "df2['Venue']=df2['Venue'].replace('MA Chidambaram Stadium, Chepauk','MA Chidambaram Stadium')\n",
        "df2['Venue']=df2['Venue'].replace('Maharashtra Cricket Association Stadium, Pune','Maharashtra Cricket Association Stadium')\n",
        "df2['Venue']=df2['Venue'].replace('Punjab Cricket Association IS Bindra Stadium','Punjab Cricket Association Stadium')\n",
        "df2['Venue']=df2['Venue'].replace('Punjab Cricket Association IS Bindra Stadium, Mohali','Punjab Cricket Association Stadium')\n",
        "df2['Venue']=df2['Venue'].replace('Punjab Cricket Association Stadium, Mohali','Punjab Cricket Association Stadium')\n",
        "df2['Venue']=df2['Venue'].replace('Rajiv Gandhi International Stadium, Uppal','Rajiv Gandhi International Stadium')\n",
        "df2['Venue']=df2['Venue'].replace('Wankhede Stadium, Mumbai','Wankhede Stadium')\n",
        "df2['Venue']=df2['Venue'].replace('Narendra Modi Stadium, Ahmedabad','Narendra Modi Stadium(Motera)')\n",
        "df2['Venue']=df2['Venue'].replace('Sardar Patel Stadium, Motera','Narendra Modi Stadium(Motera)')\n",
        "df2['Venue']=df2['Venue'].replace('Zayed Cricket Stadium, Abu Dhabi','Zayed Cricket Stadium')\n",
        "df2['Venue']=df2['Venue'].replace('Vidarbha Cricket Association Stadium, Jamtha','Vidarbha Cricket Association Stadium(Jamtha)')"
      ]
    },
    {
      "cell_type": "code",
      "execution_count": null,
      "metadata": {
        "colab": {
          "base_uri": "https://localhost:8080/"
        },
        "id": "c3KwSJmNNo9-",
        "outputId": "ae93920f-5842-417b-f975-79a9ba102a90"
      },
      "outputs": [
        {
          "output_type": "execute_result",
          "data": {
            "text/plain": [
              "Kochi    5\n",
              "Name: City, dtype: int64"
            ]
          },
          "metadata": {},
          "execution_count": 43
        }
      ],
      "source": [
        "filtered_rows = df2[df2['Venue'] == 'Nehru Stadium']\n",
        "\n",
        "# Access the 'City' column of the filtered DataFrame\n",
        "filtered_rows['City'].value_counts()"
      ]
    },
    {
      "cell_type": "code",
      "execution_count": null,
      "metadata": {
        "colab": {
          "base_uri": "https://localhost:8080/"
        },
        "id": "Zz3lDK4PLcJR",
        "outputId": "b1345ca4-4741-4d52-aa9c-36196628edf9"
      },
      "outputs": [
        {
          "output_type": "execute_result",
          "data": {
            "text/plain": [
              "Wankhede Stadium                                       104\n",
              "M Chinnaswamy Stadium                                   80\n",
              "Eden Gardens                                            79\n",
              "Arun Jaitley Stadium                                    78\n",
              "MA Chidambaram Stadium                                  67\n",
              "Rajiv Gandhi International Stadium                      64\n",
              "Punjab Cricket Association Stadium                      56\n",
              "Sawai Mansingh Stadium                                  47\n",
              "Dubai International Cricket Stadium                     46\n",
              "Dr DY Patil Sports Academy                              37\n",
              "Maharashtra Cricket Association Stadium                 35\n",
              "Sheikh Zayed Stadium                                    29\n",
              "Sharjah Cricket Stadium                                 28\n",
              "Brabourne Stadium                                       27\n",
              "Narendra Modi Stadium(Motera)                           19\n",
              "Subrata Roy Sahara Stadium                              16\n",
              "Kingsmead                                               15\n",
              "Dr. Y.S. Rajasekhara Reddy ACA-VDCA Cricket Stadium     13\n",
              "SuperSport Park                                         12\n",
              "Saurashtra Cricket Association Stadium                  10\n",
              "Himachal Pradesh Cricket Association Stadium             9\n",
              "Holkar Cricket Stadium                                   9\n",
              "New Wanderers Stadium                                    8\n",
              "Zayed Cricket Stadium                                    8\n",
              "Barabati Stadium                                         7\n",
              "JSCA International Stadium Complex                       7\n",
              "St George's Park                                         7\n",
              "Newlands                                                 7\n",
              "Shaheed Veer Narayan Singh International Stadium         6\n",
              "Nehru Stadium                                            5\n",
              "Green Park                                               4\n",
              "Vidarbha Cricket Association Stadium(Jamtha)             3\n",
              "De Beers Diamond Oval                                    3\n",
              "Buffalo Park                                             3\n",
              "OUTsurance Oval                                          2\n",
              "Name: Venue, dtype: int64"
            ]
          },
          "metadata": {},
          "execution_count": 44
        }
      ],
      "source": [
        "df2[\"Venue\"].value_counts()"
      ]
    },
    {
      "cell_type": "code",
      "execution_count": null,
      "metadata": {
        "colab": {
          "base_uri": "https://localhost:8080/"
        },
        "id": "qcdI5C9FY5t4",
        "outputId": "74b16890-841a-42cb-d318-de2aeba7b4ed"
      },
      "outputs": [
        {
          "output_type": "execute_result",
          "data": {
            "text/plain": [
              "ID                  0\n",
              "City                0\n",
              "Date                0\n",
              "Season              0\n",
              "MatchNumber         0\n",
              "Team1               0\n",
              "Team2               0\n",
              "Venue               0\n",
              "TossWinner          0\n",
              "TossDecision        0\n",
              "SuperOver           4\n",
              "WinningTeam         4\n",
              "WonBy               0\n",
              "Margin             18\n",
              "method              0\n",
              "Player_of_Match     4\n",
              "Team1Players        0\n",
              "Team2Players        0\n",
              "Umpire1             0\n",
              "Umpire2             0\n",
              "dtype: int64"
            ]
          },
          "metadata": {},
          "execution_count": 45
        }
      ],
      "source": [
        "df2.isna().sum()"
      ]
    },
    {
      "cell_type": "markdown",
      "metadata": {
        "id": "sjtGrpQ3veXF"
      },
      "source": [
        "##Margin"
      ]
    },
    {
      "cell_type": "code",
      "execution_count": null,
      "metadata": {
        "id": "22I4TeFGtYLZ"
      },
      "outputs": [],
      "source": [
        "df2['Margin'].fillna(0,inplace=True)"
      ]
    },
    {
      "cell_type": "code",
      "execution_count": null,
      "metadata": {
        "id": "dq4VxE0lvh0d"
      },
      "outputs": [],
      "source": [
        "df2.to_csv('/content/drive/MyDrive/matches.csv')\n"
      ]
    },
    {
      "cell_type": "code",
      "execution_count": null,
      "metadata": {
        "id": "FgFeyuerEiaE"
      },
      "outputs": [],
      "source": [
        "df1.to_csv('/content/drive/MyDrive/innings.csv')"
      ]
    },
    {
      "cell_type": "code",
      "execution_count": null,
      "metadata": {
        "colab": {
          "base_uri": "https://localhost:8080/"
        },
        "id": "48g8Bk2wDbt9",
        "outputId": "6b9547f1-dfd0-4642-a383-c0cd95c3d7e2"
      },
      "outputs": [
        {
          "output_type": "execute_result",
          "data": {
            "text/plain": [
              "Index(['ID', 'innings', 'overs', 'ballnumber', 'batter', 'bowler',\n",
              "       'non-striker', 'extra_type', 'batsman_run', 'extras_run', 'total_run',\n",
              "       'non_boundary', 'isWicketDelivery', 'player_out', 'kind',\n",
              "       'fielders_involved', 'BattingTeam'],\n",
              "      dtype='object')"
            ]
          },
          "metadata": {},
          "execution_count": 49
        }
      ],
      "source": [
        "df1.columns"
      ]
    },
    {
      "cell_type": "markdown",
      "metadata": {
        "id": "4Jx0AIWATbRu"
      },
      "source": [
        "#EXP"
      ]
    },
    {
      "cell_type": "code",
      "execution_count": null,
      "metadata": {
        "colab": {
          "base_uri": "https://localhost:8080/"
        },
        "id": "5VmdyM-ITCW6",
        "outputId": "23ec55ae-04a4-44d8-f70a-73e0007e58e9"
      },
      "outputs": [
        {
          "output_type": "stream",
          "name": "stdout",
          "text": [
            "Percentage of matches won by the team that won the toss: 51.47%\n"
          ]
        }
      ],
      "source": [
        "import pandas as pd\n",
        "# Assuming you have a DataFrame df2 with columns 'TossWinner' and 'WinningTeam'\n",
        "# Create a sample DataFrame for demonstration purposes\n",
        "# Calculate the total number of matches\n",
        "total_matches = len(df2)\n",
        "\n",
        "# Calculate the number of matches won by the team that won the toss\n",
        "toss_won_and_match_won = len(df2[(df2['TossWinner'] == df2['WinningTeam'])])\n",
        "\n",
        "# Calculate the percentage of matches won by the team that won the toss\n",
        "percentage_winning_toss_and_match = (toss_won_and_match_won / total_matches) * 100\n",
        "\n",
        "print(f\"Percentage of matches won by the team that won the toss: {percentage_winning_toss_and_match:.2f}%\")\n"
      ]
    },
    {
      "cell_type": "code",
      "execution_count": null,
      "metadata": {
        "id": "EqLOiyt0pDmD",
        "colab": {
          "base_uri": "https://localhost:8080/"
        },
        "outputId": "47a0bf45-ec5e-4597-c6b9-c4c1f089e358"
      },
      "outputs": [
        {
          "output_type": "stream",
          "name": "stdout",
          "text": [
            "Season  MatchNumber       \n",
            "2010    Semi Final            2\n",
            "        1                     1\n",
            "        10                    1\n",
            "        11                    1\n",
            "        12                    1\n",
            "        13                    1\n",
            "        14                    1\n",
            "        15                    1\n",
            "        16                    1\n",
            "        17                    1\n",
            "        18                    1\n",
            "        19                    1\n",
            "        2                     1\n",
            "        20                    1\n",
            "        21                    1\n",
            "        22                    1\n",
            "        23                    1\n",
            "        24                    1\n",
            "        25                    1\n",
            "        26                    1\n",
            "        27                    1\n",
            "        28                    1\n",
            "        29                    1\n",
            "        3                     1\n",
            "        30                    1\n",
            "        31                    1\n",
            "        32                    1\n",
            "        33                    1\n",
            "        34                    1\n",
            "        35                    1\n",
            "        36                    1\n",
            "        37                    1\n",
            "        38                    1\n",
            "        39                    1\n",
            "        3rd Place Play-Off    1\n",
            "        4                     1\n",
            "        40                    1\n",
            "        41                    1\n",
            "        42                    1\n",
            "        43                    1\n",
            "        44                    1\n",
            "        45                    1\n",
            "        46                    1\n",
            "        47                    1\n",
            "        48                    1\n",
            "        49                    1\n",
            "        5                     1\n",
            "        50                    1\n",
            "        51                    1\n",
            "        52                    1\n",
            "        53                    1\n",
            "        54                    1\n",
            "        55                    1\n",
            "        56                    1\n",
            "        6                     1\n",
            "        7                     1\n",
            "        8                     1\n",
            "        9                     1\n",
            "        Final                 1\n",
            "Name: MatchNumber, dtype: int64\n"
          ]
        }
      ],
      "source": [
        "# Filter the DataFrame by Season == 2008\n",
        "filtered_df = df2[df2['Season'] == \"2010\"]\n",
        "\n",
        "# Group by 'Season' and count values of 'MatchNumber' within each group\n",
        "result = filtered_df.groupby(['Season'])['MatchNumber'].value_counts().head(100)\n",
        "print(result)"
      ]
    },
    {
      "cell_type": "code",
      "execution_count": null,
      "metadata": {
        "colab": {
          "base_uri": "https://localhost:8080/",
          "height": 193
        },
        "id": "l68H4OiuCdtt",
        "outputId": "6751326c-0e45-4117-e79e-25b757e925c9"
      },
      "outputs": [
        {
          "output_type": "error",
          "ename": "NameError",
          "evalue": "ignored",
          "traceback": [
            "\u001b[0;31m---------------------------------------------------------------------------\u001b[0m",
            "\u001b[0;31mNameError\u001b[0m                                 Traceback (most recent call last)",
            "\u001b[0;32m<ipython-input-52-db827cac4531>\u001b[0m in \u001b[0;36m<cell line: 2>\u001b[0;34m()\u001b[0m\n\u001b[1;32m      1\u001b[0m \u001b[0;31m# Save the DataFrame to a CSV file\u001b[0m\u001b[0;34m\u001b[0m\u001b[0;34m\u001b[0m\u001b[0m\n\u001b[0;32m----> 2\u001b[0;31m \u001b[0mdf\u001b[0m\u001b[0;34m.\u001b[0m\u001b[0mto_csv\u001b[0m\u001b[0;34m(\u001b[0m\u001b[0;34m'matches.csv'\u001b[0m\u001b[0;34m,\u001b[0m \u001b[0mindex\u001b[0m\u001b[0;34m=\u001b[0m\u001b[0;32mFalse\u001b[0m\u001b[0;34m)\u001b[0m\u001b[0;34m\u001b[0m\u001b[0;34m\u001b[0m\u001b[0m\n\u001b[0m",
            "\u001b[0;31mNameError\u001b[0m: name 'df' is not defined"
          ]
        }
      ],
      "source": [
        "# Save the DataFrame to a CSV file\n",
        "df.to_csv('matches.csv', index=False)"
      ]
    },
    {
      "cell_type": "code",
      "execution_count": null,
      "metadata": {
        "id": "oyRK5jCtZgRv"
      },
      "outputs": [],
      "source": [
        "df2[df2['Season']=='2010'].count()"
      ]
    },
    {
      "cell_type": "code",
      "execution_count": null,
      "metadata": {
        "id": "549sHC-kXHV-"
      },
      "outputs": [],
      "source": [
        "df2.columns"
      ]
    },
    {
      "cell_type": "code",
      "execution_count": null,
      "metadata": {
        "id": "VtOpS_tdd9OI"
      },
      "outputs": [],
      "source": [
        "df1.columns"
      ]
    },
    {
      "cell_type": "code",
      "execution_count": null,
      "metadata": {
        "id": "8hUWr3LOfXx9"
      },
      "outputs": [],
      "source": [
        "df2.dtypes"
      ]
    },
    {
      "cell_type": "code",
      "execution_count": null,
      "metadata": {
        "id": "KXH0u8aZfr5J"
      },
      "outputs": [],
      "source": [
        "df1.dtypes"
      ]
    }
  ],
  "metadata": {
    "colab": {
      "provenance": [],
      "toc_visible": true
    },
    "kernelspec": {
      "display_name": "Python 3",
      "name": "python3"
    },
    "language_info": {
      "name": "python"
    }
  },
  "nbformat": 4,
  "nbformat_minor": 0
}